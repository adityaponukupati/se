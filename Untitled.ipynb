{
 "cells": [
  {
   "cell_type": "code",
   "execution_count": 1,
   "id": "7a65fb85-05b5-473d-98a0-2d2a0d2cc137",
   "metadata": {
    "tags": []
   },
   "outputs": [
    {
     "name": "stdout",
     "output_type": "stream",
     "text": [
      "app.py\ttemplates\tWPP2022_Demographic_Indicators_Medium.csv\n",
      "static\tUntitled.ipynb\tWPP2022_Demographic_Indicators_Medium.zip\n"
     ]
    }
   ],
   "source": [
    "!ls"
   ]
  },
  {
   "cell_type": "code",
   "execution_count": 2,
   "id": "54b19ee1-a75c-4484-abc3-e7e25b6e9e7b",
   "metadata": {
    "tags": []
   },
   "outputs": [],
   "source": [
    "import pandas as pd"
   ]
  },
  {
   "cell_type": "code",
   "execution_count": 3,
   "id": "0de279d7-3fb7-4b68-8913-54f89046aef2",
   "metadata": {
    "tags": []
   },
   "outputs": [],
   "source": [
    "df = pd.read_csv(\"WPP2022_Demographic_Indicators_Medium.csv\")"
   ]
  },
  {
   "cell_type": "code",
   "execution_count": 4,
   "id": "6df5d020-e7dd-4337-8d46-9b0a95ae7d51",
   "metadata": {
    "tags": []
   },
   "outputs": [],
   "source": [
    "df = df.dropna()"
   ]
  },
  {
   "cell_type": "code",
   "execution_count": 17,
   "id": "6694cf96-15f8-4ffc-a179-4fbbf7efb62f",
   "metadata": {
    "tags": []
   },
   "outputs": [
    {
     "name": "stdout",
     "output_type": "stream",
     "text": [
      "23923.0\n",
      "131.02687789992893\n",
      "84.83766636666577\n",
      "1.0\n",
      "58.0\n",
      "114.0\n",
      "210.0\n",
      "290.0\n"
     ]
    }
   ],
   "source": [
    "# for i in df.describe()[\"SortOrder\"]:\n",
    "#     print(i)"
   ]
  },
  {
   "cell_type": "code",
   "execution_count": 73,
   "id": "b48b3f21-b7dc-4b71-9cf8-7f1076237593",
   "metadata": {
    "tags": []
   },
   "outputs": [
    {
     "data": {
      "text/plain": [
       "count    23923.000000\n",
       "mean       131.026878\n",
       "std         84.837666\n",
       "min          1.000000\n",
       "25%         58.000000\n",
       "50%        114.000000\n",
       "75%        210.000000\n",
       "max        290.000000\n",
       "Name: SortOrder, dtype: float64"
      ]
     },
     "execution_count": 73,
     "metadata": {},
     "output_type": "execute_result"
    }
   ],
   "source": [
    "# arr[0]"
   ]
  },
  {
   "cell_type": "code",
   "execution_count": 74,
   "id": "e4f55def-1f4e-437f-8b32-fe8642f99cb8",
   "metadata": {},
   "outputs": [],
   "source": [
    "arr = []\n",
    "arr_3 = []\n",
    "for i in df.describe():\n",
    "    if df.describe()[i].dtype != \"object\":\n",
    "        arr.append(df.describe()[i])\n",
    "        arr_3.append(i)  \n",
    "arr_2 = []\n",
    "for l in df.describe():\n",
    "    arr_2.append(l)"
   ]
  },
  {
   "cell_type": "code",
   "execution_count": 93,
   "id": "45c6fb03-5fca-4c0b-89f9-7cc72259e04e",
   "metadata": {
    "tags": []
   },
   "outputs": [
    {
     "data": {
      "text/plain": [
       "count    23923.000000\n",
       "mean       614.333236\n",
       "std        605.532940\n",
       "min          4.000000\n",
       "25%        270.000000\n",
       "50%        533.000000\n",
       "75%        795.000000\n",
       "max       5501.000000\n",
       "Name: LocID, dtype: float64"
      ]
     },
     "execution_count": 93,
     "metadata": {},
     "output_type": "execute_result"
    }
   ],
   "source": [
    "# arr[1]"
   ]
  },
  {
   "cell_type": "code",
   "execution_count": 91,
   "id": "6f69d34d-17a0-442f-9f47-735af802756c",
   "metadata": {
    "tags": []
   },
   "outputs": [
    {
     "data": {
      "text/plain": [
       "'LocID'"
      ]
     },
     "execution_count": 91,
     "metadata": {},
     "output_type": "execute_result"
    }
   ],
   "source": [
    "# arr_2[1]"
   ]
  },
  {
   "cell_type": "code",
   "execution_count": 99,
   "id": "272068b4-1242-4bcc-b39c-1408a25c7d92",
   "metadata": {
    "tags": []
   },
   "outputs": [],
   "source": [
    "import math\n",
    "\n",
    "arr = []\n",
    "for i in df.describe():\n",
    "    if df.describe()[i].dtype != \"object\":\n",
    "        arr.append(df.describe()[i])\n",
    "arr_2 = []\n",
    "\n",
    "for l in df.describe():\n",
    "    arr_2.append(l)\n",
    "    \n",
    "sno = [1, 4, 5, 6, 7]\n",
    "sna = [\"Mean\", \"Standar Deviation\", \"25th Percentile\", \"50th Percentile\", \"75th Percentile\", \"Max\"]"
   ]
  },
  {
   "cell_type": "code",
   "execution_count": 111,
   "id": "f57d3dd8-143f-4e1f-861d-c36ceb288271",
   "metadata": {
    "tags": []
   },
   "outputs": [
    {
     "data": {
      "text/plain": [
       "['SortOrder',\n",
       " 'LocID',\n",
       " 'SDMX_code',\n",
       " 'LocTypeID',\n",
       " 'ParentID',\n",
       " 'VarID',\n",
       " 'Time',\n",
       " 'TPopulation1Jan',\n",
       " 'TPopulation1July',\n",
       " 'TPopulationMale1July',\n",
       " 'TPopulationFemale1July',\n",
       " 'PopDensity',\n",
       " 'PopSexRatio',\n",
       " 'MedianAgePop',\n",
       " 'NatChange',\n",
       " 'NatChangeRT',\n",
       " 'PopChange',\n",
       " 'PopGrowthRate',\n",
       " 'DoublingTime',\n",
       " 'Births',\n",
       " 'Births1519',\n",
       " 'CBR',\n",
       " 'TFR',\n",
       " 'NRR',\n",
       " 'MAC',\n",
       " 'SRB',\n",
       " 'Deaths',\n",
       " 'DeathsMale',\n",
       " 'DeathsFemale',\n",
       " 'CDR',\n",
       " 'LEx',\n",
       " 'LExMale',\n",
       " 'LExFemale',\n",
       " 'LE15',\n",
       " 'LE15Male',\n",
       " 'LE15Female',\n",
       " 'LE65',\n",
       " 'LE65Male',\n",
       " 'LE65Female',\n",
       " 'LE80',\n",
       " 'LE80Male',\n",
       " 'LE80Female',\n",
       " 'InfantDeaths',\n",
       " 'IMR',\n",
       " 'LBsurvivingAge1',\n",
       " 'Under5Deaths',\n",
       " 'Q5',\n",
       " 'Q0040',\n",
       " 'Q0040Male',\n",
       " 'Q0040Female',\n",
       " 'Q0060',\n",
       " 'Q0060Male',\n",
       " 'Q0060Female',\n",
       " 'Q1550',\n",
       " 'Q1550Male',\n",
       " 'Q1550Female',\n",
       " 'Q1560',\n",
       " 'Q1560Male',\n",
       " 'Q1560Female',\n",
       " 'NetMigrations',\n",
       " 'CNMR']"
      ]
     },
     "execution_count": 111,
     "metadata": {},
     "output_type": "execute_result"
    }
   ],
   "source": [
    "arr_3"
   ]
  },
  {
   "cell_type": "code",
   "execution_count": 113,
   "id": "355d3ddc-5af5-49b6-8bdb-ea8a5d2fba48",
   "metadata": {
    "tags": []
   },
   "outputs": [],
   "source": [
    "python_array_2 = []\n",
    "for m, l, k in zip(range(0, len(arr_3)), range(0, len(arr)), arr_2):\n",
    "    for i, j in zip(sno, sna):\n",
    "        python_array = []\n",
    "        python_array.append(\"The \"+ j+ \" of \"+ k+ \" is \"+ str(math.floor(arr[l][i])))\n",
    "    python_array_2.append(python_array)"
   ]
  },
  {
   "cell_type": "code",
   "execution_count": 117,
   "id": "e7ad8616-a680-4ec3-a301-6dacce7204b3",
   "metadata": {
    "tags": []
   },
   "outputs": [
    {
     "data": {
      "text/plain": [
       "'The 75th Percentile of SortOrder is 290'"
      ]
     },
     "execution_count": 117,
     "metadata": {},
     "output_type": "execute_result"
    }
   ],
   "source": [
    "python_array_2[0][]"
   ]
  },
  {
   "cell_type": "code",
   "execution_count": null,
   "id": "6659d2d6-8a10-4f1d-a919-2d42e2733df2",
   "metadata": {},
   "outputs": [],
   "source": []
  }
 ],
 "metadata": {
  "kernelspec": {
   "display_name": "Python 3 (ipykernel)",
   "language": "python",
   "name": "python3"
  },
  "language_info": {
   "codemirror_mode": {
    "name": "ipython",
    "version": 3
   },
   "file_extension": ".py",
   "mimetype": "text/x-python",
   "name": "python",
   "nbconvert_exporter": "python",
   "pygments_lexer": "ipython3",
   "version": "3.11.5"
  }
 },
 "nbformat": 4,
 "nbformat_minor": 5
}
